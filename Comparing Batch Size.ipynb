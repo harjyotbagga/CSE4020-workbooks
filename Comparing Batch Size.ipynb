{
 "cells": [
  {
   "cell_type": "code",
   "execution_count": 1,
   "metadata": {},
   "outputs": [],
   "source": [
    "import torch\n",
    "import torch.nn as nn\n",
    "import torch.nn.functional as F\n",
    "from torch.utils.data import DataLoader\n",
    "import torchvision.datasets as datasets\n",
    "import torchvision.transforms as transforms\n"
   ]
  },
  {
   "cell_type": "code",
   "execution_count": 2,
   "metadata": {},
   "outputs": [],
   "source": [
    "import warnings\n",
    "warnings.filterwarnings('ignore')"
   ]
  },
  {
   "cell_type": "code",
   "execution_count": 3,
   "metadata": {},
   "outputs": [],
   "source": [
    "# Hyperparams\n",
    "input_size = 784 #28*28\n",
    "num_classes =10\n",
    "learning_rate = 0.001\n",
    "batch_sizes = [100, 50, 25, 10]\n",
    "num_epochs = 10"
   ]
  },
  {
   "cell_type": "code",
   "execution_count": 4,
   "metadata": {},
   "outputs": [],
   "source": [
    "device = torch.device('cuda' if torch.cuda.is_available() else 'cpu')\n",
    "\n",
    "class NN(nn.Module):\n",
    "    def __init__(self, input_size, num_classes):\n",
    "        super(NN, self).__init__()\n",
    "        self.layer1 = nn.Linear(input_size, 50)\n",
    "        self.layer2 = nn.Linear(50, num_classes)\n",
    "        \n",
    "    def forward(self, x):\n",
    "        x = F.relu(self.layer1(x))\n",
    "        x = self.layer2(x)\n",
    "        return x"
   ]
  },
  {
   "cell_type": "code",
   "execution_count": 5,
   "metadata": {},
   "outputs": [],
   "source": [
    "train_dataset = datasets.MNIST(root='Data/MNIST-Dataset', train=True, transform=transforms.ToTensor(), download=True)\n",
    "test_dataset = datasets.MNIST(root='Data/MNIST-Dataset', train=False, transform=transforms.ToTensor(), download=True)"
   ]
  },
  {
   "cell_type": "code",
   "execution_count": 6,
   "metadata": {},
   "outputs": [],
   "source": [
    "# Model Testing\n",
    "def check_accuracy(batch_size):\n",
    "    \n",
    "    \n",
    "    train_loader = DataLoader(dataset=train_dataset, batch_size=batch_size, shuffle=True)\n",
    "    test_loader = DataLoader(dataset=test_dataset, batch_size=batch_size, shuffle=True)\n",
    "    \n",
    "    filename = 'Dumps/Models/MNIST_BatchSize' + str(batch_size) + 'NumEpochs10.pkl'\n",
    "    model = torch.load(filename)['model']\n",
    "    model.eval()\n",
    "    \n",
    "    print(\"Checking Accuracy on Training Data...\")\n",
    "    num_samples = 0\n",
    "    num_correct = 0\n",
    "    for data, targets in train_loader:\n",
    "        data = data.to(device=device)\n",
    "        targets = targets.to(device=device)\n",
    "        data = data.reshape(data.shape[0], -1)\n",
    "        predicted_output = model(data)\n",
    "        \n",
    "        # Calculate Accuracy\n",
    "        _, prediction = predicted_output.max(1)\n",
    "        num_samples += predicted_output.size(0)\n",
    "        num_correct += (prediction==targets).sum()\n",
    "    \n",
    "    print(f'Correctly identified samples: {num_correct}')\n",
    "    print(f'Total samples: {num_samples}')\n",
    "    print(f'The Validation Accuracy is {num_correct / num_samples * 100.00:.2f}')\n",
    "        \n",
    "    print()\n",
    "    \n",
    "    print(\"Checking Accuracy on Testing Data...\")\n",
    "    num_samples = 0\n",
    "    num_correct = 0\n",
    "    for data, targets in test_loader:\n",
    "        data = data.to(device=device)\n",
    "        targets = targets.to(device=device)\n",
    "        data = data.reshape(data.shape[0], -1)\n",
    "        predicted_output = model(data)\n",
    "\n",
    "        # Calculate Accuracy\n",
    "        _, prediction = predicted_output.max(1)\n",
    "        num_samples += predicted_output.size(0)\n",
    "        num_correct += (prediction==targets).sum()\n",
    "    \n",
    "    print(f'Correctly identified samples: {num_correct}')\n",
    "    print(f'Total samples: {num_samples}')\n",
    "    print(f'The Validation Accuracy is {num_correct / num_samples * 100.00:.2f}')"
   ]
  },
  {
   "cell_type": "code",
   "execution_count": 8,
   "metadata": {
    "scrolled": true
   },
   "outputs": [
    {
     "name": "stdout",
     "output_type": "stream",
     "text": [
      "Batch Size: 100\n",
      "\n",
      "Checking Accuracy on Training Data...\n",
      "Correctly identified samples: 58896\n",
      "Total samples: 60000\n",
      "The Validation Accuracy is 98.16\n",
      "\n",
      "Checking Accuracy on Testing Data...\n",
      "Correctly identified samples: 9698\n",
      "Total samples: 10000\n",
      "The Validation Accuracy is 96.98\n",
      "_______________________________________________________________________________\n",
      "\n",
      "Batch Size: 50\n",
      "\n",
      "Checking Accuracy on Training Data...\n",
      "Correctly identified samples: 59132\n",
      "Total samples: 60000\n",
      "The Validation Accuracy is 98.55\n",
      "\n",
      "Checking Accuracy on Testing Data...\n",
      "Correctly identified samples: 9725\n",
      "Total samples: 10000\n",
      "The Validation Accuracy is 97.25\n",
      "_______________________________________________________________________________\n",
      "\n",
      "Batch Size: 25\n",
      "\n",
      "Checking Accuracy on Training Data...\n",
      "Correctly identified samples: 59412\n",
      "Total samples: 60000\n",
      "The Validation Accuracy is 99.02\n",
      "\n",
      "Checking Accuracy on Testing Data...\n",
      "Correctly identified samples: 9725\n",
      "Total samples: 10000\n",
      "The Validation Accuracy is 97.25\n",
      "_______________________________________________________________________________\n",
      "\n",
      "Batch Size: 10\n",
      "\n",
      "Checking Accuracy on Training Data...\n",
      "Correctly identified samples: 59284\n",
      "Total samples: 60000\n",
      "The Validation Accuracy is 98.81\n",
      "\n",
      "Checking Accuracy on Testing Data...\n",
      "Correctly identified samples: 9726\n",
      "Total samples: 10000\n",
      "The Validation Accuracy is 97.26\n",
      "_______________________________________________________________________________\n",
      "\n"
     ]
    }
   ],
   "source": [
    "for batch_size in batch_sizes:\n",
    "    print(f'Batch Size: {batch_size}')\n",
    "    print()\n",
    "    check_accuracy(batch_size)\n",
    "    print('_______________________________________________________________________________')\n",
    "    print()"
   ]
  },
  {
   "cell_type": "code",
   "execution_count": null,
   "metadata": {},
   "outputs": [],
   "source": []
  }
 ],
 "metadata": {
  "kernelspec": {
   "display_name": "Python 3",
   "language": "python",
   "name": "python3"
  },
  "language_info": {
   "codemirror_mode": {
    "name": "ipython",
    "version": 3
   },
   "file_extension": ".py",
   "mimetype": "text/x-python",
   "name": "python",
   "nbconvert_exporter": "python",
   "pygments_lexer": "ipython3",
   "version": "3.8.5"
  }
 },
 "nbformat": 4,
 "nbformat_minor": 4
}
